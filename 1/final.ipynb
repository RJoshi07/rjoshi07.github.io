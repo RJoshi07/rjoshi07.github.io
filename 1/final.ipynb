{
 "cells": [
  {
   "cell_type": "code",
   "execution_count": 3,
   "metadata": {},
   "outputs": [],
   "source": [
    "import numpy as np\n",
    "import skimage as sk\n",
    "import skimage.io as skio\n",
    "import cv2"
   ]
  },
  {
   "cell_type": "code",
   "execution_count": 4,
   "metadata": {},
   "outputs": [],
   "source": [
    "def return_score(img_1, img_2, h_dis, w_dis):\n",
    "\n",
    "\n",
    "    h, w = img_1.shape\n",
    "    w_start = max(0, w_dis)\n",
    "    w_end = min(w, w+w_dis)\n",
    "    h_start = max(0, h_dis)\n",
    "    h_end = min(h, h+h_dis)\n",
    "\n",
    "    img_1_cropped = img_1[h_start:h_end, w_start:w_end].copy()\n",
    "    img_2_cropped = img_2[h_start-h_dis:h_end-h_dis, w_start-w_dis:w_end-w_dis].copy()\n",
    "\n",
    "    return np.sqrt(np.sum((img_1_cropped - img_2_cropped) ** 2))\n",
    "\n",
    "\n",
    "def return_score_ncc(img_1, img_2, h_dis, w_dis):\n",
    "\n",
    "\n",
    "    h, w = img_1.shape\n",
    "    w_start = max(0, w_dis)\n",
    "    w_end = min(w, w+w_dis)\n",
    "    h_start = max(0, h_dis)\n",
    "    h_end = min(h, h+h_dis)\n",
    "\n",
    "    img_1_cropped = img_1[h_start:h_end, w_start:w_end].copy()\n",
    "    img_2_cropped = img_2[h_start-h_dis:h_end-h_dis, w_start-w_dis:w_end-w_dis].copy()\n",
    "    crop_h = int(0.05 * h)\n",
    "    crop_w = int(0.05 * w)\n",
    "    img_1_cropped = img_1_cropped[crop_h: -crop_h, crop_w: -crop_w]\n",
    "    img_2_cropped = img_2_cropped[crop_h: -crop_h, crop_w: -crop_w]\n",
    "\n",
    "    img_1_mean = img_1_cropped - np.mean(img_1_cropped)\n",
    "    img_2_mean = img_2_cropped - np.mean(img_2_cropped)\n",
    "\n",
    "    numerator = np.sum(img_1_mean * img_2_mean)\n",
    "    denominator = np.sqrt(np.sum(img_1_mean ** 2) * np.sum(img_2_mean ** 2))\n",
    "\n",
    "    if denominator == 0:\n",
    "        return 0  \n",
    "\n",
    "    return -1 * numerator / denominator\n"
   ]
  },
  {
   "cell_type": "code",
   "execution_count": 5,
   "metadata": {},
   "outputs": [],
   "source": [
    "def small_image(name):\n",
    "    # name of the input file\n",
    "    imname = f'{name}.jpg'\n",
    "\n",
    "    # read in the image\n",
    "    im = skio.imread(imname)\n",
    "\n",
    "    # convert to double (might want to do this later on to save memory)    \n",
    "    im = sk.img_as_float(im)\n",
    "        \n",
    "    # compute the height of each part (just 1/3 of total)\n",
    "    height = np.floor(im.shape[0] / 3.0).astype(np.int64)\n",
    "\n",
    "    # separate color channels\n",
    "    b = im[:height]\n",
    "    g = im[height: 2*height]\n",
    "    r = im[2*height: 3*height]\n",
    "\n",
    "    # crop images\n",
    "    h, w = b.shape\n",
    "    crop_h = int(0.05 * h)\n",
    "    crop_w = int(0.05 * w)\n",
    "    b = b[crop_h: -crop_h, crop_w: -crop_w]\n",
    "    g = g[crop_h: -crop_h, crop_w: -crop_w]\n",
    "    r = r[crop_h: -crop_h, crop_w: -crop_w]\n",
    "\n",
    "    smallest_score = float(\"inf\")\n",
    "    # find b, r displacement\n",
    "    for i in range(-15, 16):\n",
    "        for j in range(-15, 16):\n",
    "            score = return_score(b, r, i, j)\n",
    "            if score < smallest_score:\n",
    "                smallest_score = score\n",
    "                best_w = i\n",
    "                best_h = j\n",
    "    b_r_dis = (best_h, best_w)\n",
    "\n",
    "    smallest_score = float(\"inf\")\n",
    "    # find b, g displacement\n",
    "    for i in range(-15, 16):\n",
    "        for j in range(-15, 16):\n",
    "            score = return_score(b, g, i, j)\n",
    "            if score < smallest_score:\n",
    "                smallest_score = score\n",
    "                best_w = i\n",
    "                best_h = j\n",
    "    b_g_dis = (best_h, best_w)\n",
    "\n",
    "    r = np.roll(r, b_r_dis[1], axis = 0)\n",
    "    r = np.roll(r, b_r_dis[0], axis = 1)\n",
    "    g = np.roll(g, b_g_dis[1], axis = 0)\n",
    "    g = np.roll(g, b_g_dis[0], axis = 1)\n",
    "\n",
    "    new_stacked = np.dstack([r, g, b])\n",
    "    new_stacked = np.clip(new_stacked, 0, 1)\n",
    "    new_stacked = (new_stacked * 255).astype(np.uint8)\n",
    "    print(\"b r displacement\", b_r_dis)\n",
    "    print(\"b g displacement\", b_g_dis)\n",
    "\n",
    "    # save the image\n",
    "    fname = f'{name}_final.jpg'\n",
    "    skio.imsave(fname, new_stacked)"
   ]
  },
  {
   "cell_type": "code",
   "execution_count": 6,
   "metadata": {},
   "outputs": [
    {
     "name": "stdout",
     "output_type": "stream",
     "text": [
      "b r displacement (3, 12)\n",
      "b g displacement (2, 5)\n"
     ]
    }
   ],
   "source": [
    "small_image(\"cathedral\")"
   ]
  },
  {
   "cell_type": "code",
   "execution_count": 7,
   "metadata": {},
   "outputs": [
    {
     "name": "stdout",
     "output_type": "stream",
     "text": [
      "b r displacement (3, 6)\n",
      "b g displacement (3, 3)\n"
     ]
    }
   ],
   "source": [
    "small_image(\"tobolsk\")"
   ]
  },
  {
   "cell_type": "code",
   "execution_count": 8,
   "metadata": {},
   "outputs": [
    {
     "name": "stdout",
     "output_type": "stream",
     "text": [
      "b r displacement (2, 3)\n",
      "b g displacement (2, -3)\n"
     ]
    }
   ],
   "source": [
    "small_image(\"monastery\")"
   ]
  },
  {
   "cell_type": "code",
   "execution_count": 4,
   "metadata": {},
   "outputs": [],
   "source": [
    "def resize_image(img, factor):\n",
    "    img = img.astype(np.float32)\n",
    "\n",
    "    resized_image = cv2.resize(img, (0, 0), fx=1/factor, fy=1/factor, interpolation=cv2.INTER_LINEAR)\n",
    "    return resized_image"
   ]
  },
  {
   "cell_type": "code",
   "execution_count": 105,
   "metadata": {},
   "outputs": [],
   "source": [
    "def image_pyramid(name):\n",
    "    # name of the input file\n",
    "    imname = f'{name}.tif'\n",
    "\n",
    "    # read in the image\n",
    "    im = skio.imread(imname)\n",
    "\n",
    "\n",
    "    # convert to double (might want to do this later on to save memory)    \n",
    "    im = sk.img_as_float(im)\n",
    "        \n",
    "    # compute the height of each part (just 1/3 of total)\n",
    "    height = np.floor(im.shape[0] / 3.0).astype(np.int64)\n",
    "\n",
    "    # separate color channels\n",
    "    b = im[:height]\n",
    "    g = im[height: 2*height]\n",
    "    r = im[2*height: 3*height]\n",
    "\n",
    "    b_mean = np.mean(b)\n",
    "    g_mean = np.mean(g)\n",
    "    r_mean = np.mean(r)\n",
    "\n",
    "\n",
    "    g = g + (b_mean - g_mean)\n",
    "    r = r + (b_mean - r_mean)\n",
    "\n",
    "    # crop images\n",
    "    h, w = b.shape\n",
    "    crop_h = int(0.05 * h)\n",
    "    crop_w = int(0.05 * w)\n",
    "    b = b[crop_h: -crop_h, crop_w: -crop_w]\n",
    "    g = g[crop_h: -crop_h, crop_w: -crop_w]\n",
    "    r = r[crop_h: -crop_h, crop_w: -crop_w]\n",
    "\n",
    "\n",
    "    b_g_dis = (0, 0)\n",
    "    b_r_dis = (0, 0)\n",
    "    final_b_g_dis = (0, 0)\n",
    "    final_b_r_dis = (0, 0)\n",
    "\n",
    "    factors = [16, 8, 4, 2, 1]\n",
    "    window_sizes = [10, 10, 8, 6, 6]\n",
    "    for i in range(5):\n",
    "        factor = factors[i]\n",
    "        window = window_sizes[i]\n",
    "        final_b_r_dis = (final_b_r_dis[0] + b_r_dis[0] * factor * 2, final_b_r_dis[1] + b_r_dis[1] * factor * 2)\n",
    "        final_b_g_dis = (final_b_g_dis[0] + b_g_dis[0] * factor * 2, final_b_g_dis[1] + b_g_dis[1] * factor * 2)\n",
    "        r = np.roll(r, b_r_dis[1] * factor * 2, axis = 0)\n",
    "        r = np.roll(r, b_r_dis[0] * factor * 2, axis = 1)\n",
    "        g = np.roll(g, b_g_dis[1] * factor * 2, axis = 0)\n",
    "        g = np.roll(g, b_g_dis[0] * factor * 2, axis = 1)\n",
    "\n",
    "        new_b = resize_image(b, factor)\n",
    "        new_g = resize_image(g, factor)\n",
    "        new_r = resize_image(r, factor)\n",
    "\n",
    "        smallest_score = float(\"inf\")\n",
    "        # find b, g displacement\n",
    "        for i in range(-window, window):\n",
    "            for j in range(-window, window):\n",
    "                score = return_score_ncc(new_b, new_g, i, j)\n",
    "                if score < smallest_score:\n",
    "                    smallest_score = score\n",
    "                    best_w = i\n",
    "                    best_h = j\n",
    "        b_g_dis = (best_h, best_w)\n",
    "\n",
    "        smallest_score = float(\"inf\")\n",
    "        # find b, r displacement\n",
    "        for i in range(-window, window):\n",
    "            for j in range(-window, window):\n",
    "                score = return_score_ncc(new_b, new_r, i, j)\n",
    "                if score < smallest_score:\n",
    "                    smallest_score = score\n",
    "                    best_w = i\n",
    "                    best_h = j\n",
    "        b_r_dis = (best_h, best_w)\n",
    "\n",
    "        \n",
    "\n",
    "    g = g - (b_mean - g_mean)\n",
    "    r = r - (b_mean - r_mean)\n",
    "    r = np.roll(r, b_r_dis[0], axis = 0)\n",
    "    r = np.roll(r, b_r_dis[1], axis = 1)\n",
    "    g = np.roll(g, b_g_dis[0], axis = 0)\n",
    "    g = np.roll(g, b_g_dis[1], axis = 1)\n",
    "    print(\"b r displacement\", final_b_r_dis)\n",
    "    print(\"b g displacement\", final_b_g_dis)\n",
    "\n",
    "    new_stacked = np.dstack([r, g, b])\n",
    "    new_stacked = np.clip(new_stacked, 0, 1)\n",
    "    new_stacked = (new_stacked * 255).astype(np.uint8)\n",
    "\n",
    "\n",
    "    # save the image\n",
    "    fname = f'{name}_final.jpg'\n",
    "    skio.imsave(fname, new_stacked)\n",
    "\n",
    "    \n",
    "    "
   ]
  },
  {
   "cell_type": "code",
   "execution_count": 106,
   "metadata": {},
   "outputs": [
    {
     "name": "stdout",
     "output_type": "stream",
     "text": [
      "b r displacement (-4, 58)\n",
      "b g displacement (4, 26)\n"
     ]
    }
   ],
   "source": [
    "image_pyramid(\"church\")"
   ]
  },
  {
   "cell_type": "code",
   "execution_count": 107,
   "metadata": {},
   "outputs": [
    {
     "name": "stdout",
     "output_type": "stream",
     "text": [
      "b r displacement (56, 104)\n",
      "b g displacement (24, 50)\n"
     ]
    }
   ],
   "source": [
    "image_pyramid(\"emir\")"
   ]
  },
  {
   "cell_type": "code",
   "execution_count": 108,
   "metadata": {},
   "outputs": [
    {
     "name": "stdout",
     "output_type": "stream",
     "text": [
      "b r displacement (-60, 132)\n",
      "b g displacement (-30, 56)\n"
     ]
    }
   ],
   "source": [
    "image_pyramid(\"gundukush_dam\")"
   ]
  },
  {
   "cell_type": "code",
   "execution_count": 109,
   "metadata": {},
   "outputs": [
    {
     "name": "stdout",
     "output_type": "stream",
     "text": [
      "b r displacement (14, 124)\n",
      "b g displacement (16, 60)\n"
     ]
    }
   ],
   "source": [
    "image_pyramid(\"harvesters\")"
   ]
  },
  {
   "cell_type": "code",
   "execution_count": 110,
   "metadata": {},
   "outputs": [
    {
     "name": "stdout",
     "output_type": "stream",
     "text": [
      "b r displacement (22, 90)\n",
      "b g displacement (16, 40)\n"
     ]
    }
   ],
   "source": [
    "image_pyramid(\"icon\")"
   ]
  },
  {
   "cell_type": "code",
   "execution_count": 111,
   "metadata": {},
   "outputs": [
    {
     "name": "stdout",
     "output_type": "stream",
     "text": [
      "b r displacement (48, 46)\n",
      "b g displacement (24, 28)\n"
     ]
    }
   ],
   "source": [
    "image_pyramid(\"irrigation_canal\")"
   ]
  },
  {
   "cell_type": "code",
   "execution_count": 112,
   "metadata": {},
   "outputs": [
    {
     "name": "stdout",
     "output_type": "stream",
     "text": [
      "b r displacement (12, 118)\n",
      "b g displacement (8, 54)\n"
     ]
    }
   ],
   "source": [
    "image_pyramid(\"lady\")"
   ]
  },
  {
   "cell_type": "code",
   "execution_count": 113,
   "metadata": {},
   "outputs": [
    {
     "name": "stdout",
     "output_type": "stream",
     "text": [
      "b r displacement (38, 86)\n",
      "b g displacement (12, 36)\n"
     ]
    }
   ],
   "source": [
    "image_pyramid(\"lugano\")"
   ]
  },
  {
   "cell_type": "code",
   "execution_count": 114,
   "metadata": {},
   "outputs": [
    {
     "name": "stdout",
     "output_type": "stream",
     "text": [
      "b r displacement (14, 178)\n",
      "b g displacement (10, 82)\n"
     ]
    }
   ],
   "source": [
    "image_pyramid(\"melons\")"
   ]
  },
  {
   "cell_type": "code",
   "execution_count": 115,
   "metadata": {},
   "outputs": [
    {
     "name": "stdout",
     "output_type": "stream",
     "text": [
      "b r displacement (36, 108)\n",
      "b g displacement (26, 52)\n"
     ]
    }
   ],
   "source": [
    "image_pyramid(\"onion_church\")"
   ]
  },
  {
   "cell_type": "code",
   "execution_count": 116,
   "metadata": {},
   "outputs": [
    {
     "name": "stdout",
     "output_type": "stream",
     "text": [
      "b r displacement (-26, 140)\n",
      "b g displacement (-10, 34)\n"
     ]
    }
   ],
   "source": [
    "image_pyramid(\"sculpture\")"
   ]
  },
  {
   "cell_type": "code",
   "execution_count": 117,
   "metadata": {},
   "outputs": [
    {
     "name": "stdout",
     "output_type": "stream",
     "text": [
      "b r displacement (36, 174)\n",
      "b g displacement (30, 80)\n"
     ]
    }
   ],
   "source": [
    "image_pyramid(\"self_portrait\")"
   ]
  },
  {
   "cell_type": "code",
   "execution_count": 118,
   "metadata": {},
   "outputs": [
    {
     "name": "stdout",
     "output_type": "stream",
     "text": [
      "b r displacement (10, 112)\n",
      "b g displacement (14, 54)\n"
     ]
    }
   ],
   "source": [
    "image_pyramid(\"three_generations\")"
   ]
  },
  {
   "cell_type": "code",
   "execution_count": 119,
   "metadata": {},
   "outputs": [
    {
     "name": "stdout",
     "output_type": "stream",
     "text": [
      "b r displacement (32, 88)\n",
      "b g displacement (6, 42)\n"
     ]
    }
   ],
   "source": [
    "image_pyramid(\"train\")"
   ]
  }
 ],
 "metadata": {
  "interpreter": {
   "hash": "00fe29a9e3a4a3486a494b9bbcb7d7343fbaebc85260a5f1cf994f0fb901708e"
  },
  "kernelspec": {
   "display_name": "Python 3.12.2 ('cs180_p1': venv)",
   "language": "python",
   "name": "python3"
  },
  "language_info": {
   "codemirror_mode": {
    "name": "ipython",
    "version": 3
   },
   "file_extension": ".py",
   "mimetype": "text/x-python",
   "name": "python",
   "nbconvert_exporter": "python",
   "pygments_lexer": "ipython3",
   "version": "3.12.2"
  },
  "orig_nbformat": 4
 },
 "nbformat": 4,
 "nbformat_minor": 2
}
